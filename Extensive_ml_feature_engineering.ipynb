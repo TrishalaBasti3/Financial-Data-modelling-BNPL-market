{
 "cells": [
  {
   "cell_type": "code",
   "execution_count": 1,
   "metadata": {},
   "outputs": [],
   "source": [
    "import pandas as pd\n",
    "import matplotlib.pyplot as plt\n",
    "import numpy as np\n",
    "import seaborn as sns\n",
    "import scipy.stats as spstats\n"
   ]
  },
  {
   "cell_type": "code",
   "execution_count": 2,
   "metadata": {
    "scrolled": true
   },
   "outputs": [],
   "source": [
    "df = pd.read_csv(\"C://DataScience//Regis24/unique_orders.csv\")\n",
    "pd.set_option('display.max_columns', 85)\n",
    "pd.set_option('display.max_rows', 85)\n",
    "df.drop(columns = ['ORDER_ID', 'CUSTOMER_ID', 'delay_duration','NR_ITEMS_UNIQUE', 'NR_ITEMS',\n",
    "                   'total_orders', 'paytime', 'rank' ], inplace=True)\n"
   ]
  },
  {
   "cell_type": "code",
   "execution_count": null,
   "metadata": {},
   "outputs": [],
   "source": []
  },
  {
   "cell_type": "code",
   "execution_count": 3,
   "metadata": {},
   "outputs": [],
   "source": [
    "# Monday is 0 and Sunday is 6\n",
    "df['PAYMENT_DATE'] = pd.to_datetime(df['PAYMENT_DATE'])\n",
    "df['ORDER_DATE'] = pd.to_datetime(df['ORDER_DATE'])\n",
    "\n",
    "df['PAYMENT_DATE_year'] = df['PAYMENT_DATE'].dt.year#2\n",
    "df['PAYMENT_DATE_month'] = df['PAYMENT_DATE'].dt.month#3\n",
    "df['PAYMENT_DATE_day'] = df['PAYMENT_DATE'].dt.day#2\n",
    "df['PAYMENT_DATE_day_of_week'] = df['PAYMENT_DATE'].dt.dayofweek\n",
    "df['PAYMENT_DATE_is_month_start'] = df['PAYMENT_DATE'].dt.is_month_start\n",
    "df['PAYMENT_DATE_is_month_end'] = df['PAYMENT_DATE'].dt.is_month_end\n",
    "df['ORDER_DATE_year'] = df['ORDER_DATE'].dt.year#2\n",
    "df['ORDER_DATE_month'] = df['ORDER_DATE'].dt.month#3\n",
    "df['ORDER_DATE_day'] = df['ORDER_DATE'].dt.day#2\n",
    "df['ORDER_DATE_day_of_week'] = df['ORDER_DATE'].dt.dayofweek\n",
    "df['ORDER_DATE_is_month_start'] = df['ORDER_DATE'].dt.is_month_start\n",
    "df['ORDER_DATE_is_month_end'] = df['ORDER_DATE'].dt.is_month_end\n",
    "df['PAYMENT_DATE_is_weekend'] = np.where(df['PAYMENT_DATE_day_of_week'].isin([5,6]), 1, 0)\n",
    "df['ORDER_DATE_is_weekend'] = np.where(df['ORDER_DATE_day_of_week'].isin([5,6]), 1, 0)\n",
    "\n",
    "df['PAYMENT_DATE_is_month_start'] = df['PAYMENT_DATE_is_month_start'].astype(str)\n",
    "df['PAYMENT_DATE_is_month_end'] = df['PAYMENT_DATE_is_month_end'].astype(str)\n",
    "df['ORDER_DATE_is_month_end'] = df['ORDER_DATE_is_month_end'].astype(str)\n",
    "df['ORDER_DATE_is_month_start'] = df['ORDER_DATE_is_month_start'].astype(str)\n"
   ]
  },
  {
   "cell_type": "code",
   "execution_count": 4,
   "metadata": {},
   "outputs": [],
   "source": [
    "df.drop(columns = ['PAYMENT_DATE','ORDER_DATE'], inplace=True)"
   ]
  },
  {
   "cell_type": "code",
   "execution_count": 5,
   "metadata": {},
   "outputs": [
    {
     "data": {
      "text/plain": [
       "PAYMENT_INFO                    object\n",
       "payment_duration                 int64\n",
       "SHOP                            object\n",
       "AGE                              int64\n",
       "CART_VALUE                     float64\n",
       "GENDER                          object\n",
       "Default_Flag                     int64\n",
       "delay_category                  object\n",
       "PAYMENT_DATE_year                int64\n",
       "PAYMENT_DATE_month               int64\n",
       "PAYMENT_DATE_day                 int64\n",
       "PAYMENT_DATE_day_of_week         int64\n",
       "PAYMENT_DATE_is_month_start     object\n",
       "PAYMENT_DATE_is_month_end       object\n",
       "ORDER_DATE_year                  int64\n",
       "ORDER_DATE_month                 int64\n",
       "ORDER_DATE_day                   int64\n",
       "ORDER_DATE_day_of_week           int64\n",
       "ORDER_DATE_is_month_start       object\n",
       "ORDER_DATE_is_month_end         object\n",
       "PAYMENT_DATE_is_weekend          int32\n",
       "ORDER_DATE_is_weekend            int32\n",
       "dtype: object"
      ]
     },
     "execution_count": 5,
     "metadata": {},
     "output_type": "execute_result"
    }
   ],
   "source": [
    "df.dtypes"
   ]
  },
  {
   "cell_type": "code",
   "execution_count": null,
   "metadata": {},
   "outputs": [],
   "source": []
  },
  {
   "cell_type": "markdown",
   "metadata": {},
   "source": [
    "### AGE "
   ]
  },
  {
   "cell_type": "code",
   "execution_count": 6,
   "metadata": {},
   "outputs": [
    {
     "name": "stdout",
     "output_type": "stream",
     "text": [
      "count    1701855.000\n",
      "mean          50.945\n",
      "std           14.736\n",
      "min            3.000\n",
      "25%           41.000\n",
      "50%           51.000\n",
      "75%           60.000\n",
      "max          120.000\n",
      "Name: AGE, dtype: float64\n"
     ]
    }
   ],
   "source": [
    "stats_numeric_AGE = df['AGE'].describe().round(3)\n",
    "print (stats_numeric_AGE)"
   ]
  },
  {
   "cell_type": "code",
   "execution_count": 7,
   "metadata": {},
   "outputs": [
    {
     "name": "stderr",
     "output_type": "stream",
     "text": [
      "C:\\Users\\Admin\\Anaconda3\\lib\\site-packages\\seaborn\\_decorators.py:36: FutureWarning: Pass the following variable as a keyword arg: x. From version 0.12, the only valid positional argument will be `data`, and passing other arguments without an explicit keyword will result in an error or misinterpretation.\n",
      "  warnings.warn(\n"
     ]
    },
    {
     "data": {
      "text/plain": [
       "<AxesSubplot:xlabel='AGE'>"
      ]
     },
     "execution_count": 7,
     "metadata": {},
     "output_type": "execute_result"
    },
    {
     "data": {
      "image/png": "[encoded data removed]",
      "text/plain": [
       "<Figure size 432x288 with 1 Axes>"
      ]
     },
     "metadata": {
      "needs_background": "light"
     },
     "output_type": "display_data"
    }
   ],
   "source": [
    "sns.boxplot(df['AGE'])"
   ]
  },
  {
   "cell_type": "code",
   "execution_count": 8,
   "metadata": {},
   "outputs": [
    {
     "data": {
      "text/plain": [
       "Text(0, 0.5, 'Frequency')"
      ]
     },
     "execution_count": 8,
     "metadata": {},
     "output_type": "execute_result"
    },
    {
     "data": {
      "image/png": "[encoded data removed]",
      "text/plain": [
       "<Figure size 432x288 with 1 Axes>"
      ]
     },
     "metadata": {
      "needs_background": "light"
     },
     "output_type": "display_data"
    }
   ],
   "source": [
    "fig, ax = plt.subplots()\n",
    "df['AGE'].hist(color='#A9C5D3', edgecolor='black', bins=30, grid=False)\n",
    "ax.set_title('AGE Histogram', fontsize=12)\n",
    "ax.set_xlabel('AGE', fontsize=12)\n",
    "ax.set_ylabel('Frequency', fontsize=12)"
   ]
  },
  {
   "cell_type": "code",
   "execution_count": 9,
   "metadata": {},
   "outputs": [
    {
     "name": "stdout",
     "output_type": "stream",
     "text": [
      "count    1701855.000\n",
      "mean         129.197\n",
      "std          178.826\n",
      "min            0.010\n",
      "25%           42.140\n",
      "50%           73.950\n",
      "75%          144.940\n",
      "max        10980.260\n",
      "Name: CART_VALUE, dtype: float64\n"
     ]
    }
   ],
   "source": [
    "stats_numeric_CART_VALUE = df['CART_VALUE'].describe().round(3)\n",
    "print (stats_numeric_CART_VALUE)"
   ]
  },
  {
   "cell_type": "code",
   "execution_count": 10,
   "metadata": {},
   "outputs": [
    {
     "name": "stderr",
     "output_type": "stream",
     "text": [
      "C:\\Users\\Admin\\Anaconda3\\lib\\site-packages\\seaborn\\_decorators.py:36: FutureWarning: Pass the following variable as a keyword arg: x. From version 0.12, the only valid positional argument will be `data`, and passing other arguments without an explicit keyword will result in an error or misinterpretation.\n",
      "  warnings.warn(\n"
     ]
    },
    {
     "data": {
      "text/plain": [
       "<AxesSubplot:xlabel='CART_VALUE'>"
      ]
     },
     "execution_count": 10,
     "metadata": {},
     "output_type": "execute_result"
    },
    {
     "data": {
      "image/png": "[encoded data removed]",
      "text/plain": [
       "<Figure size 432x288 with 1 Axes>"
      ]
     },
     "metadata": {
      "needs_background": "light"
     },
     "output_type": "display_data"
    }
   ],
   "source": [
    "# Box Plot\n",
    "sns.boxplot(df['CART_VALUE'])"
   ]
  },
  {
   "cell_type": "code",
   "execution_count": 11,
   "metadata": {},
   "outputs": [
    {
     "data": {
      "text/plain": [
       "PAYMENT_INFO\n",
       "CONTRACT_TERMINATION        2\n",
       "INKASSO_CLOSED             87\n",
       "INKASSO_PENDING            27\n",
       "PAID_FULL               20325\n",
       "PAID_OVER                 216\n",
       "dtype: int64"
      ]
     },
     "execution_count": 11,
     "metadata": {},
     "output_type": "execute_result"
    }
   ],
   "source": [
    "# Check cart value above 800\n",
    "cartvalue_above800 = df[ df['CART_VALUE'] > 800 ]\n",
    "payment_group = cartvalue_above800.groupby('PAYMENT_INFO')\n",
    "payment_group.size()"
   ]
  },
  {
   "cell_type": "code",
   "execution_count": 12,
   "metadata": {},
   "outputs": [
    {
     "data": {
      "text/plain": [
       "(20657, 22)"
      ]
     },
     "execution_count": 12,
     "metadata": {},
     "output_type": "execute_result"
    }
   ],
   "source": [
    "cartvalue_above800.shape"
   ]
  },
  {
   "cell_type": "code",
   "execution_count": 13,
   "metadata": {},
   "outputs": [
    {
     "data": {
      "text/html": [
       "<div>\n",
       "<style scoped>\n",
       "    .dataframe tbody tr th:only-of-type {\n",
       "        vertical-align: middle;\n",
       "    }\n",
       "\n",
       "    .dataframe tbody tr th {\n",
       "        vertical-align: top;\n",
       "    }\n",
       "\n",
       "    .dataframe thead th {\n",
       "        text-align: right;\n",
       "    }\n",
       "</style>\n",
       "<table border=\"1\" class=\"dataframe\">\n",
       "  <thead>\n",
       "    <tr style=\"text-align: right;\">\n",
       "      <th></th>\n",
       "      <th>PAYMENT_INFO</th>\n",
       "      <th>payment_duration</th>\n",
       "      <th>SHOP</th>\n",
       "      <th>AGE</th>\n",
       "      <th>CART_VALUE</th>\n",
       "      <th>GENDER</th>\n",
       "      <th>Default_Flag</th>\n",
       "      <th>delay_category</th>\n",
       "      <th>PAYMENT_DATE_year</th>\n",
       "      <th>PAYMENT_DATE_month</th>\n",
       "      <th>PAYMENT_DATE_day</th>\n",
       "      <th>PAYMENT_DATE_day_of_week</th>\n",
       "      <th>PAYMENT_DATE_is_month_start</th>\n",
       "      <th>PAYMENT_DATE_is_month_end</th>\n",
       "      <th>ORDER_DATE_year</th>\n",
       "      <th>ORDER_DATE_month</th>\n",
       "      <th>ORDER_DATE_day</th>\n",
       "      <th>ORDER_DATE_day_of_week</th>\n",
       "      <th>ORDER_DATE_is_month_start</th>\n",
       "      <th>ORDER_DATE_is_month_end</th>\n",
       "      <th>PAYMENT_DATE_is_weekend</th>\n",
       "      <th>ORDER_DATE_is_weekend</th>\n",
       "    </tr>\n",
       "  </thead>\n",
       "  <tbody>\n",
       "    <tr>\n",
       "      <th>0</th>\n",
       "      <td>PAID_FULL</td>\n",
       "      <td>22</td>\n",
       "      <td>Shoes</td>\n",
       "      <td>22</td>\n",
       "      <td>183.40</td>\n",
       "      <td>f</td>\n",
       "      <td>0</td>\n",
       "      <td>1-14 days</td>\n",
       "      <td>2016</td>\n",
       "      <td>12</td>\n",
       "      <td>10</td>\n",
       "      <td>5</td>\n",
       "      <td>False</td>\n",
       "      <td>False</td>\n",
       "      <td>2016</td>\n",
       "      <td>11</td>\n",
       "      <td>18</td>\n",
       "      <td>4</td>\n",
       "      <td>False</td>\n",
       "      <td>False</td>\n",
       "      <td>1</td>\n",
       "      <td>0</td>\n",
       "    </tr>\n",
       "    <tr>\n",
       "      <th>1</th>\n",
       "      <td>PAID_FULL</td>\n",
       "      <td>4</td>\n",
       "      <td>Fashion</td>\n",
       "      <td>62</td>\n",
       "      <td>59.99</td>\n",
       "      <td>f</td>\n",
       "      <td>0</td>\n",
       "      <td>On Time</td>\n",
       "      <td>2016</td>\n",
       "      <td>11</td>\n",
       "      <td>22</td>\n",
       "      <td>1</td>\n",
       "      <td>False</td>\n",
       "      <td>False</td>\n",
       "      <td>2016</td>\n",
       "      <td>11</td>\n",
       "      <td>18</td>\n",
       "      <td>4</td>\n",
       "      <td>False</td>\n",
       "      <td>False</td>\n",
       "      <td>0</td>\n",
       "      <td>0</td>\n",
       "    </tr>\n",
       "    <tr>\n",
       "      <th>2</th>\n",
       "      <td>PAID_FULL</td>\n",
       "      <td>41</td>\n",
       "      <td>Fashion</td>\n",
       "      <td>22</td>\n",
       "      <td>45.00</td>\n",
       "      <td>f</td>\n",
       "      <td>0</td>\n",
       "      <td>15-29 days</td>\n",
       "      <td>2016</td>\n",
       "      <td>12</td>\n",
       "      <td>29</td>\n",
       "      <td>3</td>\n",
       "      <td>False</td>\n",
       "      <td>False</td>\n",
       "      <td>2016</td>\n",
       "      <td>11</td>\n",
       "      <td>18</td>\n",
       "      <td>4</td>\n",
       "      <td>False</td>\n",
       "      <td>False</td>\n",
       "      <td>0</td>\n",
       "      <td>0</td>\n",
       "    </tr>\n",
       "  </tbody>\n",
       "</table>\n",
       "</div>"
      ],
      "text/plain": [
       "  PAYMENT_INFO  payment_duration     SHOP  AGE  CART_VALUE GENDER  \\\n",
       "0    PAID_FULL                22    Shoes   22      183.40      f   \n",
       "1    PAID_FULL                 4  Fashion   62       59.99      f   \n",
       "2    PAID_FULL                41  Fashion   22       45.00      f   \n",
       "\n",
       "   Default_Flag delay_category  PAYMENT_DATE_year  PAYMENT_DATE_month  \\\n",
       "0             0      1-14 days               2016                  12   \n",
       "1             0        On Time               2016                  11   \n",
       "2             0     15-29 days               2016                  12   \n",
       "\n",
       "   PAYMENT_DATE_day  PAYMENT_DATE_day_of_week PAYMENT_DATE_is_month_start  \\\n",
       "0                10                         5                       False   \n",
       "1                22                         1                       False   \n",
       "2                29                         3                       False   \n",
       "\n",
       "  PAYMENT_DATE_is_month_end  ORDER_DATE_year  ORDER_DATE_month  \\\n",
       "0                     False             2016                11   \n",
       "1                     False             2016                11   \n",
       "2                     False             2016                11   \n",
       "\n",
       "   ORDER_DATE_day  ORDER_DATE_day_of_week ORDER_DATE_is_month_start  \\\n",
       "0              18                       4                     False   \n",
       "1              18                       4                     False   \n",
       "2              18                       4                     False   \n",
       "\n",
       "  ORDER_DATE_is_month_end  PAYMENT_DATE_is_weekend  ORDER_DATE_is_weekend  \n",
       "0                   False                        1                      0  \n",
       "1                   False                        0                      0  \n",
       "2                   False                        0                      0  "
      ]
     },
     "execution_count": 13,
     "metadata": {},
     "output_type": "execute_result"
    }
   ],
   "source": [
    "# drop these rows having cart value above 1000\n",
    "# from dataFrame\n",
    "df = df.drop(df[df['CART_VALUE'] > 800].index)\n",
    "df.head(3)\n"
   ]
  },
  {
   "cell_type": "code",
   "execution_count": 14,
   "metadata": {},
   "outputs": [
    {
     "data": {
      "text/plain": [
       "56430"
      ]
     },
     "execution_count": 14,
     "metadata": {},
     "output_type": "execute_result"
    }
   ],
   "source": [
    "len(df['CART_VALUE'].unique())"
   ]
  },
  {
   "cell_type": "markdown",
   "metadata": {},
   "source": [
    "### payment_duration "
   ]
  },
  {
   "cell_type": "code",
   "execution_count": 15,
   "metadata": {},
   "outputs": [
    {
     "name": "stdout",
     "output_type": "stream",
     "text": [
      "count    1681198.000\n",
      "mean          20.396\n",
      "std           27.146\n",
      "min            1.000\n",
      "25%            8.000\n",
      "50%           14.000\n",
      "75%           23.000\n",
      "max          365.000\n",
      "Name: payment_duration, dtype: float64\n"
     ]
    }
   ],
   "source": [
    "stats_numeric_payment_duration = df['payment_duration'].describe().round(3)\n",
    "print (stats_numeric_payment_duration)"
   ]
  },
  {
   "cell_type": "code",
   "execution_count": 16,
   "metadata": {},
   "outputs": [
    {
     "data": {
      "text/plain": [
       "(1672446, 22)"
      ]
     },
     "execution_count": 16,
     "metadata": {},
     "output_type": "execute_result"
    }
   ],
   "source": [
    "df = df.drop(df[df['payment_duration'] > 200].index)\n",
    "df.shape"
   ]
  },
  {
   "cell_type": "code",
   "execution_count": 17,
   "metadata": {},
   "outputs": [
    {
     "name": "stderr",
     "output_type": "stream",
     "text": [
      "C:\\Users\\Admin\\Anaconda3\\lib\\site-packages\\seaborn\\_decorators.py:36: FutureWarning: Pass the following variable as a keyword arg: x. From version 0.12, the only valid positional argument will be `data`, and passing other arguments without an explicit keyword will result in an error or misinterpretation.\n",
      "  warnings.warn(\n"
     ]
    },
    {
     "data": {
      "text/plain": [
       "<AxesSubplot:xlabel='payment_duration'>"
      ]
     },
     "execution_count": 17,
     "metadata": {},
     "output_type": "execute_result"
    },
    {
     "data": {
      "image/png": "[encoded data removed]",
      "text/plain": [
       "<Figure size 432x288 with 1 Axes>"
      ]
     },
     "metadata": {
      "needs_background": "light"
     },
     "output_type": "display_data"
    }
   ],
   "source": [
    "sns.boxplot(df['payment_duration'])"
   ]
  },
  {
   "cell_type": "code",
   "execution_count": 18,
   "metadata": {},
   "outputs": [
    {
     "data": {
      "text/plain": [
       "Text(0, 0.5, 'Frequency')"
      ]
     },
     "execution_count": 18,
     "metadata": {},
     "output_type": "execute_result"
    },
    {
     "data": {
      "image/png": "[encoded data removed]",
      "text/plain": [
       "<Figure size 432x288 with 1 Axes>"
      ]
     },
     "metadata": {
      "needs_background": "light"
     },
     "output_type": "display_data"
    }
   ],
   "source": [
    "fig, ax = plt.subplots()\n",
    "df['payment_duration'].hist(color='#A9C5D3', edgecolor='black', bins=60, grid=False)\n",
    "ax.set_title('payment_duration Histogram', fontsize=12)\n",
    "ax.set_xlabel('payment_duration', fontsize=12)\n",
    "ax.set_ylabel('Frequency', fontsize=12)"
   ]
  },
  {
   "cell_type": "markdown",
   "metadata": {},
   "source": [
    "### Categorical Vairables:\n",
    "* PAYMENT_DATE_year           \n",
    "* PAYMENT_DATE_month          \n",
    "* PAYMENT_DATE_day            \n",
    "* PAYMENT_DATE_day_of_week    \n",
    "* ORDER_DATE_year             \n",
    "* ORDER_DATE_month            \n",
    "* ORDER_DATE_day              \n",
    "* ORDER_DATE_day_of_week      \n",
    "* SHOP                        \n",
    "* PAYMENT_INFO                \n",
    "* delay_category              \n",
    "* GENDER                      \n",
    "* Default_Flag               \n",
    "\n",
    "### Numerical variables\n",
    "\n",
    "* payment_duration        \n",
    "* AGE                     \n",
    "* CART_VALUE   "
   ]
  },
  {
   "cell_type": "code",
   "execution_count": 19,
   "metadata": {},
   "outputs": [
    {
     "data": {
      "text/plain": [
       "Text(0, 0.5, 'Frequency')"
      ]
     },
     "execution_count": 19,
     "metadata": {},
     "output_type": "execute_result"
    },
    {
     "data": {
      "image/png": "[encoded data removed]",
      "text/plain": [
       "<Figure size 432x288 with 1 Axes>"
      ]
     },
     "metadata": {
      "needs_background": "light"
     },
     "output_type": "display_data"
    }
   ],
   "source": [
    "fig, ax = plt.subplots()\n",
    "df['CART_VALUE'].hist(color='#A9C5D3', edgecolor='black', bins=100, grid=False)\n",
    "ax.set_title('CART_VALUE Histogram', fontsize=12)\n",
    "ax.set_xlabel('CART_VALUE', fontsize=12)\n",
    "ax.set_ylabel('Frequency', fontsize=12)"
   ]
  },
  {
   "cell_type": "code",
   "execution_count": 20,
   "metadata": {},
   "outputs": [
    {
     "data": {
      "text/plain": [
       "801"
      ]
     },
     "execution_count": 20,
     "metadata": {},
     "output_type": "execute_result"
    }
   ],
   "source": [
    "df['CART_VALUE']= round(df['CART_VALUE'])\n",
    "len(df['CART_VALUE'].unique())"
   ]
  },
  {
   "cell_type": "code",
   "execution_count": 21,
   "metadata": {},
   "outputs": [
    {
     "data": {
      "text/plain": [
       "(1672446, 22)"
      ]
     },
     "execution_count": 21,
     "metadata": {},
     "output_type": "execute_result"
    }
   ],
   "source": [
    "df.shape"
   ]
  },
  {
   "cell_type": "markdown",
   "metadata": {},
   "source": [
    "### SPLIT DATA INTO TRAIN AND TEST"
   ]
  },
  {
   "cell_type": "code",
   "execution_count": 23,
   "metadata": {},
   "outputs": [],
   "source": [
    "#Splitting the dataset to Test and Train\n",
    "from sklearn.model_selection import train_test_split\n",
    "\n",
    "X = df.drop(['delay_category'], axis= 1)\n",
    "y = df['delay_category']\n",
    "X_train,X_test,y_train,y_test = train_test_split(X, y, test_size=.2)\n",
    "X_train = X_train.copy()            "
   ]
  },
  {
   "cell_type": "code",
   "execution_count": null,
   "metadata": {},
   "outputs": [],
   "source": [
    "#df.dtypes"
   ]
  },
  {
   "cell_type": "code",
   "execution_count": 24,
   "metadata": {},
   "outputs": [],
   "source": [
    "### Normalize the pay_duration, age and Cart_value"
   ]
  },
  {
   "cell_type": "code",
   "execution_count": 25,
   "metadata": {},
   "outputs": [],
   "source": [
    "from sklearn import preprocessing\n",
    "min_max = preprocessing.MinMaxScaler()"
   ]
  },
  {
   "cell_type": "code",
   "execution_count": 26,
   "metadata": {},
   "outputs": [],
   "source": [
    "# copy the data\n",
    "X_train_min_max_scaled = X_train.copy()\n",
    "  \n",
    "# apply normalization techniques by Column 1\n",
    "column = 'AGE'\n",
    "X_train_min_max_scaled[column] = (X_train_min_max_scaled[column] - X_train_min_max_scaled[column].min()) / (X_train_min_max_scaled[column].max() - X_train_min_max_scaled[column].min())    \n",
    "\n",
    "column = 'payment_duration'\n",
    "X_train_min_max_scaled[column] = (X_train_min_max_scaled[column] - X_train_min_max_scaled[column].min()) / (X_train_min_max_scaled[column].max() - X_train_min_max_scaled[column].min())    \n",
    "\n",
    "column = 'CART_VALUE'\n",
    "X_train_min_max_scaled[column] = (X_train_min_max_scaled[column] - X_train_min_max_scaled[column].min()) / (X_train_min_max_scaled[column].max() - X_train_min_max_scaled[column].min())    \n"
   ]
  },
  {
   "cell_type": "code",
   "execution_count": 27,
   "metadata": {},
   "outputs": [],
   "source": [
    "# Test data same steps:\n",
    "X_train = X_train_min_max_scaled"
   ]
  },
  {
   "cell_type": "code",
   "execution_count": 28,
   "metadata": {
    "scrolled": true
   },
   "outputs": [
    {
     "data": {
      "text/plain": [
       "272696    0.080402\n",
       "89577     0.050251\n",
       "102250    0.070352\n",
       "Name: payment_duration, dtype: float64"
      ]
     },
     "execution_count": 28,
     "metadata": {},
     "output_type": "execute_result"
    }
   ],
   "source": [
    "X_train['payment_duration'].head(3)"
   ]
  },
  {
   "cell_type": "code",
   "execution_count": 29,
   "metadata": {},
   "outputs": [
    {
     "data": {
      "text/plain": [
       "272696    0.03250\n",
       "89577     0.17375\n",
       "102250    0.06875\n",
       "Name: CART_VALUE, dtype: float64"
      ]
     },
     "execution_count": 29,
     "metadata": {},
     "output_type": "execute_result"
    }
   ],
   "source": [
    "X_train['CART_VALUE'].head(3)"
   ]
  },
  {
   "cell_type": "code",
   "execution_count": 30,
   "metadata": {},
   "outputs": [
    {
     "data": {
      "text/plain": [
       "272696    0.675214\n",
       "89577     0.401709\n",
       "102250    0.170940\n",
       "Name: AGE, dtype: float64"
      ]
     },
     "execution_count": 30,
     "metadata": {},
     "output_type": "execute_result"
    }
   ],
   "source": [
    "X_train['AGE'].head(3)"
   ]
  },
  {
   "cell_type": "code",
   "execution_count": 31,
   "metadata": {},
   "outputs": [
    {
     "data": {
      "text/plain": [
       "(1337956, 21)"
      ]
     },
     "execution_count": 31,
     "metadata": {},
     "output_type": "execute_result"
    }
   ],
   "source": [
    "X_train.shape"
   ]
  },
  {
   "cell_type": "code",
   "execution_count": 32,
   "metadata": {},
   "outputs": [
    {
     "data": {
      "text/plain": [
       "PAYMENT_INFO                    object\n",
       "payment_duration               float64\n",
       "SHOP                            object\n",
       "AGE                            float64\n",
       "CART_VALUE                     float64\n",
       "GENDER                          object\n",
       "Default_Flag                     int64\n",
       "PAYMENT_DATE_year                int64\n",
       "PAYMENT_DATE_month               int64\n",
       "PAYMENT_DATE_day                 int64\n",
       "PAYMENT_DATE_day_of_week         int64\n",
       "PAYMENT_DATE_is_month_start     object\n",
       "PAYMENT_DATE_is_month_end       object\n",
       "ORDER_DATE_year                  int64\n",
       "ORDER_DATE_month                 int64\n",
       "ORDER_DATE_day                   int64\n",
       "ORDER_DATE_day_of_week           int64\n",
       "ORDER_DATE_is_month_start       object\n",
       "ORDER_DATE_is_month_end         object\n",
       "PAYMENT_DATE_is_weekend          int32\n",
       "ORDER_DATE_is_weekend            int32\n",
       "dtype: object"
      ]
     },
     "execution_count": 32,
     "metadata": {},
     "output_type": "execute_result"
    }
   ],
   "source": [
    "X_train.dtypes"
   ]
  },
  {
   "cell_type": "code",
   "execution_count": null,
   "metadata": {},
   "outputs": [],
   "source": [
    "# X_train['PAYMENT_DATE_year','PAYMENT_DATE_month','PAYMENT_DATE_day','PAYMENT_DATE_day_of_week','ORDER_DATE_year','ORDER_DATE_month','ORDER_DATE_day','ORDER_DATE_day_of_week' ].head(30)"
   ]
  },
  {
   "cell_type": "code",
   "execution_count": null,
   "metadata": {},
   "outputs": [],
   "source": [
    "# # Label encoding \n",
    "\n",
    "# PAYMENT_DATE_year                int64\n",
    "# PAYMENT_DATE_month               int64\n",
    "# PAYMENT_DATE_day                 int64\n",
    "# PAYMENT_DATE_day_of_week         int64\n",
    "# PAYMENT_DATE_is_month_start       bool\n",
    "# PAYMENT_DATE_is_month_end         bool\n",
    "# ORDER_DATE_year                  int64\n",
    "# ORDER_DATE_month                 int64\n",
    "# ORDER_DATE_day                   int64\n",
    "# ORDER_DATE_day_of_week           int64\n",
    "# ORDER_DATE_is_month_start         bool\n",
    "# ORDER_DATE_is_month_end           bool\n",
    "# PAYMENT_DATE_is_weekend          int32\n",
    "# ORDER_DATE_is_weekend            int32"
   ]
  },
  {
   "cell_type": "code",
   "execution_count": 34,
   "metadata": {},
   "outputs": [],
   "source": [
    "from sklearn.preprocessing import LabelEncoder\n",
    "# Instantiate LabelEncoder\n",
    "le = LabelEncoder() "
   ]
  },
  {
   "cell_type": "code",
   "execution_count": 35,
   "metadata": {},
   "outputs": [
    {
     "data": {
      "text/html": [
       "<div>\n",
       "<style scoped>\n",
       "    .dataframe tbody tr th:only-of-type {\n",
       "        vertical-align: middle;\n",
       "    }\n",
       "\n",
       "    .dataframe tbody tr th {\n",
       "        vertical-align: top;\n",
       "    }\n",
       "\n",
       "    .dataframe thead th {\n",
       "        text-align: right;\n",
       "    }\n",
       "</style>\n",
       "<table border=\"1\" class=\"dataframe\">\n",
       "  <thead>\n",
       "    <tr style=\"text-align: right;\">\n",
       "      <th></th>\n",
       "      <th>PAYMENT_INFO</th>\n",
       "      <th>payment_duration</th>\n",
       "      <th>SHOP</th>\n",
       "      <th>AGE</th>\n",
       "      <th>CART_VALUE</th>\n",
       "      <th>GENDER</th>\n",
       "      <th>Default_Flag</th>\n",
       "      <th>PAYMENT_DATE_year</th>\n",
       "      <th>PAYMENT_DATE_month</th>\n",
       "      <th>PAYMENT_DATE_day</th>\n",
       "      <th>PAYMENT_DATE_day_of_week</th>\n",
       "      <th>PAYMENT_DATE_is_month_start</th>\n",
       "      <th>PAYMENT_DATE_is_month_end</th>\n",
       "      <th>ORDER_DATE_year</th>\n",
       "      <th>ORDER_DATE_month</th>\n",
       "      <th>ORDER_DATE_day</th>\n",
       "      <th>ORDER_DATE_day_of_week</th>\n",
       "      <th>ORDER_DATE_is_month_start</th>\n",
       "      <th>ORDER_DATE_is_month_end</th>\n",
       "      <th>PAYMENT_DATE_is_weekend</th>\n",
       "      <th>ORDER_DATE_is_weekend</th>\n",
       "    </tr>\n",
       "  </thead>\n",
       "  <tbody>\n",
       "    <tr>\n",
       "      <th>272696</th>\n",
       "      <td>PAID_FULL</td>\n",
       "      <td>0.080402</td>\n",
       "      <td>Fashion</td>\n",
       "      <td>0.675214</td>\n",
       "      <td>0.03250</td>\n",
       "      <td>m</td>\n",
       "      <td>0</td>\n",
       "      <td>2</td>\n",
       "      <td>3</td>\n",
       "      <td>12</td>\n",
       "      <td>4</td>\n",
       "      <td>False</td>\n",
       "      <td>False</td>\n",
       "      <td>2</td>\n",
       "      <td>2</td>\n",
       "      <td>26</td>\n",
       "      <td>1</td>\n",
       "      <td>False</td>\n",
       "      <td>False</td>\n",
       "      <td>0</td>\n",
       "      <td>0</td>\n",
       "    </tr>\n",
       "    <tr>\n",
       "      <th>89577</th>\n",
       "      <td>PAID_FULL</td>\n",
       "      <td>0.050251</td>\n",
       "      <td>Jewellery</td>\n",
       "      <td>0.401709</td>\n",
       "      <td>0.17375</td>\n",
       "      <td>f</td>\n",
       "      <td>0</td>\n",
       "      <td>1</td>\n",
       "      <td>5</td>\n",
       "      <td>1</td>\n",
       "      <td>4</td>\n",
       "      <td>False</td>\n",
       "      <td>False</td>\n",
       "      <td>1</td>\n",
       "      <td>4</td>\n",
       "      <td>21</td>\n",
       "      <td>0</td>\n",
       "      <td>False</td>\n",
       "      <td>False</td>\n",
       "      <td>0</td>\n",
       "      <td>0</td>\n",
       "    </tr>\n",
       "    <tr>\n",
       "      <th>102250</th>\n",
       "      <td>PAID_FULL</td>\n",
       "      <td>0.070352</td>\n",
       "      <td>Sports</td>\n",
       "      <td>0.170940</td>\n",
       "      <td>0.06875</td>\n",
       "      <td>f</td>\n",
       "      <td>0</td>\n",
       "      <td>1</td>\n",
       "      <td>6</td>\n",
       "      <td>2</td>\n",
       "      <td>0</td>\n",
       "      <td>False</td>\n",
       "      <td>False</td>\n",
       "      <td>1</td>\n",
       "      <td>5</td>\n",
       "      <td>17</td>\n",
       "      <td>6</td>\n",
       "      <td>False</td>\n",
       "      <td>False</td>\n",
       "      <td>0</td>\n",
       "      <td>1</td>\n",
       "    </tr>\n",
       "  </tbody>\n",
       "</table>\n",
       "</div>"
      ],
      "text/plain": [
       "       PAYMENT_INFO  payment_duration       SHOP       AGE  CART_VALUE GENDER  \\\n",
       "272696    PAID_FULL          0.080402    Fashion  0.675214     0.03250      m   \n",
       "89577     PAID_FULL          0.050251  Jewellery  0.401709     0.17375      f   \n",
       "102250    PAID_FULL          0.070352     Sports  0.170940     0.06875      f   \n",
       "\n",
       "        Default_Flag  PAYMENT_DATE_year  PAYMENT_DATE_month  PAYMENT_DATE_day  \\\n",
       "272696             0                  2                   3                12   \n",
       "89577              0                  1                   5                 1   \n",
       "102250             0                  1                   6                 2   \n",
       "\n",
       "        PAYMENT_DATE_day_of_week PAYMENT_DATE_is_month_start  \\\n",
       "272696                         4                       False   \n",
       "89577                          4                       False   \n",
       "102250                         0                       False   \n",
       "\n",
       "       PAYMENT_DATE_is_month_end  ORDER_DATE_year  ORDER_DATE_month  \\\n",
       "272696                     False                2                 2   \n",
       "89577                      False                1                 4   \n",
       "102250                     False                1                 5   \n",
       "\n",
       "        ORDER_DATE_day  ORDER_DATE_day_of_week ORDER_DATE_is_month_start  \\\n",
       "272696              26                       1                     False   \n",
       "89577               21                       0                     False   \n",
       "102250              17                       6                     False   \n",
       "\n",
       "       ORDER_DATE_is_month_end  PAYMENT_DATE_is_weekend  ORDER_DATE_is_weekend  \n",
       "272696                   False                        0                      0  \n",
       "89577                    False                        0                      0  \n",
       "102250                   False                        0                      1  "
      ]
     },
     "execution_count": 35,
     "metadata": {},
     "output_type": "execute_result"
    }
   ],
   "source": [
    "cols = ['PAYMENT_DATE_month', 'PAYMENT_DATE_year', 'PAYMENT_DATE_day','PAYMENT_DATE_day_of_week','ORDER_DATE_year','ORDER_DATE_month','ORDER_DATE_day','ORDER_DATE_day_of_week' ]\n",
    "\n",
    "# Encode labels of multiple columns at once\n",
    "X_train[cols] = X_train[cols].apply(le.fit_transform)\n",
    "\n",
    "# Print head\n",
    "X_train.head(3)"
   ]
  },
  {
   "cell_type": "code",
   "execution_count": null,
   "metadata": {},
   "outputs": [],
   "source": [
    "# # onehot encoding\n",
    "\n",
    "# # First label encode the required columns\n",
    "# PAYMENT_DATE_is_month_start    \n",
    "# PAYMENT_DATE_is_month_end        \n",
    "# ORDER_DATE_is_month_start      \n",
    "# ORDER_DATE_is_month_end        \n",
    "# PAYMENT_DATE_is_weekend        \n",
    "# ORDER_DATE_is_weekend          \n",
    "# SHOP  \n",
    "# PAYMENT_INFO\n",
    "# GENDER \n",
    "# Default_Flag "
   ]
  },
  {
   "cell_type": "code",
   "execution_count": null,
   "metadata": {},
   "outputs": [],
   "source": [
    "# from sklearn.preprocessing import OneHotEncoder\n",
    "# from sklearn.compose import ColumnTransformer\n",
    "   \n",
    "# # creating one hot encoder object with categorical feature 0\n",
    "# # indicating the first column\n",
    "# columnTransformer = ColumnTransformer([('encoder',\n",
    "#                                         OneHotEncoder(),\n",
    "#                                         [0])],\n",
    "#                                       remainder='passthrough')\n",
    "  \n",
    "# data = np.array(columnTransformer.fit_transform(data), dtype = np.str)"
   ]
  },
  {
   "cell_type": "code",
   "execution_count": null,
   "metadata": {},
   "outputs": [],
   "source": [
    "# Get all names \n",
    "\n",
    "for col_name in X_train.columns: \n",
    "    index_no = X_train.columns.get_loc(col_name)\n",
    "    print(col_name, index_no)"
   ]
  },
  {
   "cell_type": "code",
   "execution_count": 36,
   "metadata": {},
   "outputs": [],
   "source": [
    "dummies_X_Train = pd.get_dummies(X_train[['PAYMENT_DATE_is_month_start', 'PAYMENT_DATE_is_month_end','ORDER_DATE_is_month_start',\n",
    "        'ORDER_DATE_is_month_end','PAYMENT_DATE_is_weekend', 'ORDER_DATE_is_weekend','SHOP', \n",
    "        'PAYMENT_INFO', 'GENDER']])"
   ]
  },
  {
   "cell_type": "code",
   "execution_count": null,
   "metadata": {},
   "outputs": [],
   "source": [
    "dummies_X_Train.head()"
   ]
  },
  {
   "cell_type": "code",
   "execution_count": 37,
   "metadata": {},
   "outputs": [
    {
     "data": {
      "text/plain": [
       "Index(['PAYMENT_DATE_is_weekend', 'ORDER_DATE_is_weekend',\n",
       "       'PAYMENT_DATE_is_month_start_False', 'PAYMENT_DATE_is_month_start_True',\n",
       "       'PAYMENT_DATE_is_month_end_False', 'PAYMENT_DATE_is_month_end_True',\n",
       "       'ORDER_DATE_is_month_start_False', 'ORDER_DATE_is_month_start_True',\n",
       "       'ORDER_DATE_is_month_end_False', 'ORDER_DATE_is_month_end_True',\n",
       "       'SHOP_Baby & Child', 'SHOP_Car Accessories',\n",
       "       'SHOP_DIY Superstore & Tools', 'SHOP_Electronics', 'SHOP_Fashion',\n",
       "       'SHOP_Food', 'SHOP_Furniture', 'SHOP_Jewellery', 'SHOP_Media',\n",
       "       'SHOP_Shoes', 'SHOP_Sports', 'SHOP_Toys', 'SHOP_Young Fashion',\n",
       "       'PAYMENT_INFO_CONTRACT_TERMINATION', 'PAYMENT_INFO_INKASSO_CLOSED',\n",
       "       'PAYMENT_INFO_INKASSO_PENDING', 'PAYMENT_INFO_PAID_FULL',\n",
       "       'PAYMENT_INFO_PAID_OVER', 'GENDER_f', 'GENDER_m', 'GENDER_u'],\n",
       "      dtype='object')"
      ]
     },
     "execution_count": 37,
     "metadata": {},
     "output_type": "execute_result"
    }
   ],
   "source": [
    "dummies_X_Train.columns"
   ]
  },
  {
   "cell_type": "code",
   "execution_count": 38,
   "metadata": {},
   "outputs": [
    {
     "data": {
      "text/html": [
       "<div>\n",
       "<style scoped>\n",
       "    .dataframe tbody tr th:only-of-type {\n",
       "        vertical-align: middle;\n",
       "    }\n",
       "\n",
       "    .dataframe tbody tr th {\n",
       "        vertical-align: top;\n",
       "    }\n",
       "\n",
       "    .dataframe thead th {\n",
       "        text-align: right;\n",
       "    }\n",
       "</style>\n",
       "<table border=\"1\" class=\"dataframe\">\n",
       "  <thead>\n",
       "    <tr style=\"text-align: right;\">\n",
       "      <th></th>\n",
       "      <th>PAYMENT_DATE_is_weekend</th>\n",
       "      <th>ORDER_DATE_is_weekend</th>\n",
       "      <th>PAYMENT_DATE_is_month_start_False</th>\n",
       "      <th>PAYMENT_DATE_is_month_start_True</th>\n",
       "      <th>PAYMENT_DATE_is_month_end_False</th>\n",
       "      <th>PAYMENT_DATE_is_month_end_True</th>\n",
       "      <th>ORDER_DATE_is_month_start_False</th>\n",
       "      <th>ORDER_DATE_is_month_start_True</th>\n",
       "      <th>ORDER_DATE_is_month_end_False</th>\n",
       "      <th>ORDER_DATE_is_month_end_True</th>\n",
       "      <th>SHOP_Baby &amp; Child</th>\n",
       "      <th>SHOP_Car Accessories</th>\n",
       "      <th>SHOP_DIY Superstore &amp; Tools</th>\n",
       "      <th>SHOP_Electronics</th>\n",
       "      <th>SHOP_Fashion</th>\n",
       "      <th>SHOP_Food</th>\n",
       "      <th>SHOP_Furniture</th>\n",
       "      <th>SHOP_Jewellery</th>\n",
       "      <th>SHOP_Media</th>\n",
       "      <th>SHOP_Shoes</th>\n",
       "      <th>SHOP_Sports</th>\n",
       "      <th>SHOP_Toys</th>\n",
       "      <th>SHOP_Young Fashion</th>\n",
       "      <th>PAYMENT_INFO_CONTRACT_TERMINATION</th>\n",
       "      <th>PAYMENT_INFO_INKASSO_CLOSED</th>\n",
       "      <th>PAYMENT_INFO_INKASSO_PENDING</th>\n",
       "      <th>PAYMENT_INFO_PAID_FULL</th>\n",
       "      <th>PAYMENT_INFO_PAID_OVER</th>\n",
       "      <th>GENDER_f</th>\n",
       "      <th>GENDER_m</th>\n",
       "      <th>GENDER_u</th>\n",
       "    </tr>\n",
       "  </thead>\n",
       "  <tbody>\n",
       "    <tr>\n",
       "      <th>272696</th>\n",
       "      <td>0</td>\n",
       "      <td>0</td>\n",
       "      <td>1</td>\n",
       "      <td>0</td>\n",
       "      <td>1</td>\n",
       "      <td>0</td>\n",
       "      <td>1</td>\n",
       "      <td>0</td>\n",
       "      <td>1</td>\n",
       "      <td>0</td>\n",
       "      <td>0</td>\n",
       "      <td>0</td>\n",
       "      <td>0</td>\n",
       "      <td>0</td>\n",
       "      <td>1</td>\n",
       "      <td>0</td>\n",
       "      <td>0</td>\n",
       "      <td>0</td>\n",
       "      <td>0</td>\n",
       "      <td>0</td>\n",
       "      <td>0</td>\n",
       "      <td>0</td>\n",
       "      <td>0</td>\n",
       "      <td>0</td>\n",
       "      <td>0</td>\n",
       "      <td>0</td>\n",
       "      <td>1</td>\n",
       "      <td>0</td>\n",
       "      <td>0</td>\n",
       "      <td>1</td>\n",
       "      <td>0</td>\n",
       "    </tr>\n",
       "    <tr>\n",
       "      <th>89577</th>\n",
       "      <td>0</td>\n",
       "      <td>0</td>\n",
       "      <td>1</td>\n",
       "      <td>0</td>\n",
       "      <td>1</td>\n",
       "      <td>0</td>\n",
       "      <td>1</td>\n",
       "      <td>0</td>\n",
       "      <td>1</td>\n",
       "      <td>0</td>\n",
       "      <td>0</td>\n",
       "      <td>0</td>\n",
       "      <td>0</td>\n",
       "      <td>0</td>\n",
       "      <td>0</td>\n",
       "      <td>0</td>\n",
       "      <td>0</td>\n",
       "      <td>1</td>\n",
       "      <td>0</td>\n",
       "      <td>0</td>\n",
       "      <td>0</td>\n",
       "      <td>0</td>\n",
       "      <td>0</td>\n",
       "      <td>0</td>\n",
       "      <td>0</td>\n",
       "      <td>0</td>\n",
       "      <td>1</td>\n",
       "      <td>0</td>\n",
       "      <td>1</td>\n",
       "      <td>0</td>\n",
       "      <td>0</td>\n",
       "    </tr>\n",
       "    <tr>\n",
       "      <th>102250</th>\n",
       "      <td>0</td>\n",
       "      <td>1</td>\n",
       "      <td>1</td>\n",
       "      <td>0</td>\n",
       "      <td>1</td>\n",
       "      <td>0</td>\n",
       "      <td>1</td>\n",
       "      <td>0</td>\n",
       "      <td>1</td>\n",
       "      <td>0</td>\n",
       "      <td>0</td>\n",
       "      <td>0</td>\n",
       "      <td>0</td>\n",
       "      <td>0</td>\n",
       "      <td>0</td>\n",
       "      <td>0</td>\n",
       "      <td>0</td>\n",
       "      <td>0</td>\n",
       "      <td>0</td>\n",
       "      <td>0</td>\n",
       "      <td>1</td>\n",
       "      <td>0</td>\n",
       "      <td>0</td>\n",
       "      <td>0</td>\n",
       "      <td>0</td>\n",
       "      <td>0</td>\n",
       "      <td>1</td>\n",
       "      <td>0</td>\n",
       "      <td>1</td>\n",
       "      <td>0</td>\n",
       "      <td>0</td>\n",
       "    </tr>\n",
       "    <tr>\n",
       "      <th>1381039</th>\n",
       "      <td>0</td>\n",
       "      <td>0</td>\n",
       "      <td>1</td>\n",
       "      <td>0</td>\n",
       "      <td>1</td>\n",
       "      <td>0</td>\n",
       "      <td>1</td>\n",
       "      <td>0</td>\n",
       "      <td>1</td>\n",
       "      <td>0</td>\n",
       "      <td>0</td>\n",
       "      <td>0</td>\n",
       "      <td>0</td>\n",
       "      <td>0</td>\n",
       "      <td>1</td>\n",
       "      <td>0</td>\n",
       "      <td>0</td>\n",
       "      <td>0</td>\n",
       "      <td>0</td>\n",
       "      <td>0</td>\n",
       "      <td>0</td>\n",
       "      <td>0</td>\n",
       "      <td>0</td>\n",
       "      <td>0</td>\n",
       "      <td>0</td>\n",
       "      <td>0</td>\n",
       "      <td>0</td>\n",
       "      <td>1</td>\n",
       "      <td>1</td>\n",
       "      <td>0</td>\n",
       "      <td>0</td>\n",
       "    </tr>\n",
       "    <tr>\n",
       "      <th>512947</th>\n",
       "      <td>0</td>\n",
       "      <td>0</td>\n",
       "      <td>1</td>\n",
       "      <td>0</td>\n",
       "      <td>1</td>\n",
       "      <td>0</td>\n",
       "      <td>1</td>\n",
       "      <td>0</td>\n",
       "      <td>1</td>\n",
       "      <td>0</td>\n",
       "      <td>0</td>\n",
       "      <td>0</td>\n",
       "      <td>0</td>\n",
       "      <td>0</td>\n",
       "      <td>1</td>\n",
       "      <td>0</td>\n",
       "      <td>0</td>\n",
       "      <td>0</td>\n",
       "      <td>0</td>\n",
       "      <td>0</td>\n",
       "      <td>0</td>\n",
       "      <td>0</td>\n",
       "      <td>0</td>\n",
       "      <td>0</td>\n",
       "      <td>0</td>\n",
       "      <td>0</td>\n",
       "      <td>1</td>\n",
       "      <td>0</td>\n",
       "      <td>1</td>\n",
       "      <td>0</td>\n",
       "      <td>0</td>\n",
       "    </tr>\n",
       "  </tbody>\n",
       "</table>\n",
       "</div>"
      ],
      "text/plain": [
       "         PAYMENT_DATE_is_weekend  ORDER_DATE_is_weekend  \\\n",
       "272696                         0                      0   \n",
       "89577                          0                      0   \n",
       "102250                         0                      1   \n",
       "1381039                        0                      0   \n",
       "512947                         0                      0   \n",
       "\n",
       "         PAYMENT_DATE_is_month_start_False  PAYMENT_DATE_is_month_start_True  \\\n",
       "272696                                   1                                 0   \n",
       "89577                                    1                                 0   \n",
       "102250                                   1                                 0   \n",
       "1381039                                  1                                 0   \n",
       "512947                                   1                                 0   \n",
       "\n",
       "         PAYMENT_DATE_is_month_end_False  PAYMENT_DATE_is_month_end_True  \\\n",
       "272696                                 1                               0   \n",
       "89577                                  1                               0   \n",
       "102250                                 1                               0   \n",
       "1381039                                1                               0   \n",
       "512947                                 1                               0   \n",
       "\n",
       "         ORDER_DATE_is_month_start_False  ORDER_DATE_is_month_start_True  \\\n",
       "272696                                 1                               0   \n",
       "89577                                  1                               0   \n",
       "102250                                 1                               0   \n",
       "1381039                                1                               0   \n",
       "512947                                 1                               0   \n",
       "\n",
       "         ORDER_DATE_is_month_end_False  ORDER_DATE_is_month_end_True  \\\n",
       "272696                               1                             0   \n",
       "89577                                1                             0   \n",
       "102250                               1                             0   \n",
       "1381039                              1                             0   \n",
       "512947                               1                             0   \n",
       "\n",
       "         SHOP_Baby & Child  SHOP_Car Accessories  SHOP_DIY Superstore & Tools  \\\n",
       "272696                   0                     0                            0   \n",
       "89577                    0                     0                            0   \n",
       "102250                   0                     0                            0   \n",
       "1381039                  0                     0                            0   \n",
       "512947                   0                     0                            0   \n",
       "\n",
       "         SHOP_Electronics  SHOP_Fashion  SHOP_Food  SHOP_Furniture  \\\n",
       "272696                  0             1          0               0   \n",
       "89577                   0             0          0               0   \n",
       "102250                  0             0          0               0   \n",
       "1381039                 0             1          0               0   \n",
       "512947                  0             1          0               0   \n",
       "\n",
       "         SHOP_Jewellery  SHOP_Media  SHOP_Shoes  SHOP_Sports  SHOP_Toys  \\\n",
       "272696                0           0           0            0          0   \n",
       "89577                 1           0           0            0          0   \n",
       "102250                0           0           0            1          0   \n",
       "1381039               0           0           0            0          0   \n",
       "512947                0           0           0            0          0   \n",
       "\n",
       "         SHOP_Young Fashion  PAYMENT_INFO_CONTRACT_TERMINATION  \\\n",
       "272696                    0                                  0   \n",
       "89577                     0                                  0   \n",
       "102250                    0                                  0   \n",
       "1381039                   0                                  0   \n",
       "512947                    0                                  0   \n",
       "\n",
       "         PAYMENT_INFO_INKASSO_CLOSED  PAYMENT_INFO_INKASSO_PENDING  \\\n",
       "272696                             0                             0   \n",
       "89577                              0                             0   \n",
       "102250                             0                             0   \n",
       "1381039                            0                             0   \n",
       "512947                             0                             0   \n",
       "\n",
       "         PAYMENT_INFO_PAID_FULL  PAYMENT_INFO_PAID_OVER  GENDER_f  GENDER_m  \\\n",
       "272696                        1                       0         0         1   \n",
       "89577                         1                       0         1         0   \n",
       "102250                        1                       0         1         0   \n",
       "1381039                       0                       1         1         0   \n",
       "512947                        1                       0         1         0   \n",
       "\n",
       "         GENDER_u  \n",
       "272696          0  \n",
       "89577           0  \n",
       "102250          0  \n",
       "1381039         0  \n",
       "512947          0  "
      ]
     },
     "execution_count": 38,
     "metadata": {},
     "output_type": "execute_result"
    }
   ],
   "source": [
    "dummies_X_Train.head()"
   ]
  },
  {
   "cell_type": "code",
   "execution_count": null,
   "metadata": {},
   "outputs": [],
   "source": []
  },
  {
   "cell_type": "code",
   "execution_count": null,
   "metadata": {},
   "outputs": [],
   "source": []
  },
  {
   "cell_type": "code",
   "execution_count": null,
   "metadata": {},
   "outputs": [],
   "source": []
  },
  {
   "cell_type": "code",
   "execution_count": null,
   "metadata": {},
   "outputs": [],
   "source": []
  },
  {
   "cell_type": "markdown",
   "metadata": {},
   "source": [
    "# Test Data"
   ]
  },
  {
   "cell_type": "code",
   "execution_count": null,
   "metadata": {},
   "outputs": [],
   "source": []
  },
  {
   "cell_type": "code",
   "execution_count": null,
   "metadata": {},
   "outputs": [],
   "source": [
    "# # copy the data\n",
    "# X_train_min_max_scaled = X_train.copy()\n",
    "  \n",
    "# # apply normalization techniques by Column 1\n",
    "# column = 'AGE'\n",
    "# X_train_min_max_scaled[column] = (X_train_min_max_scaled[column] - X_train_min_max_scaled[column].min()) / (X_train_min_max_scaled[column].max() - X_train_min_max_scaled[column].min())    \n",
    "  \n",
    "# column = 'payment_duration'\n",
    "# X_train_min_max_scaled[column] = (X_train_min_max_scaled[column] - X_train_min_max_scaled[column].min()) / (X_train_min_max_scaled[column].max() - X_train_min_max_scaled[column].min())    \n",
    "\n",
    "\n",
    "# column = 'CART_VALUE'\n",
    "# X_train_min_max_scaled[column] = (X_train_min_max_scaled[column] - X_train_min_max_scaled[column].min()) / (X_train_min_max_scaled[column].max() - X_train_min_max_scaled[column].min())    \n"
   ]
  },
  {
   "cell_type": "code",
   "execution_count": null,
   "metadata": {},
   "outputs": [],
   "source": [
    "# cols = ['PAYMENT_DATE_month', 'PAYMENT_DATE_year', 'PAYMENT_DATE_day','PAYMENT_DATE_day_of_week','ORDER_DATE_year','ORDER_DATE_month','ORDER_DATE_day','ORDER_DATE_day_of_week' ]\n",
    "\n",
    "# # Encode labels of multiple columns at once\n",
    "# X_train[cols] = X_train[cols].apply(le.fit_transform)\n",
    "\n",
    "# # Print head\n",
    "# X_train.head(30)"
   ]
  },
  {
   "cell_type": "code",
   "execution_count": null,
   "metadata": {},
   "outputs": [],
   "source": [
    "# cols_le = ['PAYMENT_DATE_is_month_start', 'PAYMENT_DATE_is_month_end','ORDER_DATE_is_month_start',\n",
    "#         'ORDER_DATE_is_month_end','PAYMENT_DATE_is_weekend', 'ORDER_DATE_is_weekend','SHOP', \n",
    "#         'PAYMENT_INFO', 'GENDER']\n",
    "\n",
    "# # Encode labels of multiple columns at once\n",
    "# X_train[cols_le] = X_train[cols_le].apply(le.fit_transform)\n",
    "# # onehot encoding on Default_Flag\n",
    "\n",
    "# X_train.head()"
   ]
  },
  {
   "cell_type": "code",
   "execution_count": null,
   "metadata": {},
   "outputs": [],
   "source": [
    "# dummies_X_Train = pd.get_dummies(X_train[['PAYMENT_DATE_is_month_start', 'PAYMENT_DATE_is_month_end','ORDER_DATE_is_month_start',\n",
    "#         'ORDER_DATE_is_month_end','PAYMENT_DATE_is_weekend', 'ORDER_DATE_is_weekend','SHOP', \n",
    "#         'PAYMENT_INFO', 'GENDER']])"
   ]
  }
 ],
 "metadata": {
  "kernelspec": {
   "display_name": "Python 3",
   "language": "python",
   "name": "python3"
  },
  "language_info": {
   "codemirror_mode": {
    "name": "ipython",
    "version": 3
   },
   "file_extension": ".py",
   "mimetype": "text/x-python",
   "name": "python",
   "nbconvert_exporter": "python",
   "pygments_lexer": "ipython3",
   "version": "3.8.8"
  },
  "toc": {
   "base_numbering": 1,
   "nav_menu": {},
   "number_sections": true,
   "sideBar": true,
   "skip_h1_title": false,
   "title_cell": "Table of Contents",
   "title_sidebar": "Contents",
   "toc_cell": false,
   "toc_position": {},
   "toc_section_display": true,
   "toc_window_display": false
  }
 },
 "nbformat": 4,
 "nbformat_minor": 4
}
